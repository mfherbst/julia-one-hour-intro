{
 "cells": [
  {
   "cell_type": "markdown",
   "id": "liked-millennium",
   "metadata": {},
   "source": [
    "## About me\n",
    "- Michael F. Herbst (Postdoc wtih Benjamin Stamm @ RWTH Aachen, Germany)\n",
    "- https://michael-herbst.com\n",
    "\n",
    "\n",
    "- Lead developer of DFTK (Julia code for density-functional theory, electronic structure theory)  \n",
    "  (together with some folks from Ecole des Ponts)\n",
    "- https://dftk.org\n",
    "\n",
    "\n",
    "- In my research I work with Julia, Python and C++\n",
    "- Learned Julia in 2018, quickly became my favourite language\n",
    "- Today I tell you why!\n",
    "\n",
    "- You can get these notes from https://github.com/mfherbst/julia-one-hour-intro"
   ]
  },
  {
   "cell_type": "markdown",
   "id": "plastic-method",
   "metadata": {},
   "source": [
    "## The point of  Julia\n",
    "\n",
    "- **Walks like Python, talks like Lisp, runs like FORTRAN**\n",
    "    - Development dynamic like writing python code\n",
    "    - Less object-oriented more function-oriented (like Lisp)\n",
    "    - Same speed as FORTRAN or C code (Petaflop club)\n",
    "- *Both* fast and high-level!\n",
    "- Extremely good ratio between coding time and running time.\n",
    "\n",
    "\n",
    "\n",
    "- Key concepts:\n",
    "    - **Just-in-time compilation** (JIT)\n",
    "    - Compilation down to *native code* (running on CPU and GPU, ...)\n",
    "    - Strong type system to encode exploitable properties (e.g. symmetries, sparsities, storage location etc.)\n",
    "    - Multiple dispatch and strong composability of packages (Details later)\n",
    "    \n",
    "    \n",
    "\n",
    "- Additional value:\n",
    "    - **Multi-platform** (x86, ARM, PowerPC, Apple's M1 on the way)\n",
    "    - **Cross-language support:** Easily use C++, FORTRAN, python, R, Java ... from Julia (and in some cases the other way round, too)\n",
    "    - **Builtin package manager**\n",
    "    - **Unicode support** inside the core language\n",
    "    - **Green threading** and **distributed computing**\n",
    "    - **Macros** are part of the language\n",
    "    - **Rich set of packages**: GPU, Threading, Distributed computing, Plotting, Visualisation, Optimisation, Statistics, Data science, Automatic differentiation, Machine Learning, PDEs ..."
   ]
  },
  {
   "cell_type": "markdown",
   "id": "circular-cowboy",
   "metadata": {},
   "source": [
    "## Just-in-time compilation\n",
    "\n",
    "Consider the case of summing the numbers in a vector:"
   ]
  },
  {
   "cell_type": "code",
   "execution_count": 1,
   "id": "necessary-lodging",
   "metadata": {},
   "outputs": [
    {
     "data": {
      "text/plain": [
       "mysum (generic function with 1 method)"
      ]
     },
     "execution_count": 1,
     "metadata": {},
     "output_type": "execute_result"
    }
   ],
   "source": [
    "function mysum(v)\n",
    "    result = zero(eltype(v))\n",
    "    for i in 1:length(v)\n",
    "        result += v[i]\n",
    "    end\n",
    "    result\n",
    "end"
   ]
  },
  {
   "cell_type": "code",
   "execution_count": 2,
   "id": "piano-bubble",
   "metadata": {},
   "outputs": [],
   "source": [
    "v = rand(5000);"
   ]
  },
  {
   "cell_type": "markdown",
   "id": "coastal-whale",
   "metadata": {},
   "source": [
    "First run is always slow (compilation):"
   ]
  },
  {
   "cell_type": "code",
   "execution_count": 3,
   "id": "planned-fetish",
   "metadata": {},
   "outputs": [
    {
     "name": "stdout",
     "output_type": "stream",
     "text": [
      "  0.007224 seconds (14.92 k allocations: 959.666 KiB, 99.20% compilation time)\n"
     ]
    }
   ],
   "source": [
    "@time mysum(v);"
   ]
  },
  {
   "cell_type": "markdown",
   "id": "median-coverage",
   "metadata": {},
   "source": [
    "Afterwards way faster:"
   ]
  },
  {
   "cell_type": "code",
   "execution_count": 4,
   "id": "normal-helicopter",
   "metadata": {},
   "outputs": [
    {
     "name": "stdout",
     "output_type": "stream",
     "text": [
      "  0.000009 seconds (1 allocation: 16 bytes)\n"
     ]
    }
   ],
   "source": [
    "@time mysum(v);"
   ]
  },
  {
   "cell_type": "markdown",
   "id": "portuguese-rebound",
   "metadata": {},
   "source": [
    "Employed arithmetic depends on types:"
   ]
  },
  {
   "cell_type": "code",
   "execution_count": 5,
   "id": "solid-prize",
   "metadata": {},
   "outputs": [
    {
     "data": {
      "text/plain": [
       "3412271391523101405"
      ]
     },
     "execution_count": 5,
     "metadata": {},
     "output_type": "execute_result"
    }
   ],
   "source": [
    "vint = rand(Int, 10);\n",
    "mysum(vint)"
   ]
  },
  {
   "cell_type": "markdown",
   "id": "pretty-participation",
   "metadata": {},
   "source": [
    "## Composability\n",
    "\n",
    "or the real power of Julia.\n",
    "\n",
    "\n",
    "(a) **Elevated precision** ... let's consider a nasty case:"
   ]
  },
  {
   "cell_type": "code",
   "execution_count": 6,
   "id": "destroyed-hungary",
   "metadata": {},
   "outputs": [],
   "source": [
    "# A vector that sums to one by construction\n",
    "function generate(N)\n",
    "    x = randn(N) .* exp.(10 .* randn(N))\n",
    "    x = [x; -x; 1.0]\n",
    "    x[sortperm(rand(length(x)))]\n",
    "end\n",
    "        \n",
    "v = generate(1000);"
   ]
  },
  {
   "cell_type": "code",
   "execution_count": 7,
   "id": "racial-pitch",
   "metadata": {},
   "outputs": [
    {
     "data": {
      "text/plain": [
       "244.70110425693102"
      ]
     },
     "execution_count": 7,
     "metadata": {},
     "output_type": "execute_result"
    }
   ],
   "source": [
    "mysum(v)"
   ]
  },
  {
   "cell_type": "markdown",
   "id": "inner-vegetarian",
   "metadata": {},
   "source": [
    "... looks wrong, let's try elevated precision:"
   ]
  },
  {
   "cell_type": "code",
   "execution_count": 8,
   "id": "handy-baking",
   "metadata": {},
   "outputs": [
    {
     "data": {
      "text/plain": [
       "1.0"
      ]
     },
     "execution_count": 8,
     "metadata": {},
     "output_type": "execute_result"
    }
   ],
   "source": [
    "mysum(big.(v))"
   ]
  },
  {
   "cell_type": "markdown",
   "id": "tender-affiliation",
   "metadata": {},
   "source": [
    "(b) **Tracking numerical error**"
   ]
  },
  {
   "cell_type": "code",
   "execution_count": 9,
   "id": "cosmetic-denver",
   "metadata": {},
   "outputs": [
    {
     "data": {
      "text/plain": [
       "[-31627.4, 31540.8]"
      ]
     },
     "execution_count": 9,
     "metadata": {},
     "output_type": "execute_result"
    }
   ],
   "source": [
    "using IntervalArithmetic\n",
    "\n",
    "mysum(Interval.(v))"
   ]
  },
  {
   "cell_type": "markdown",
   "id": "peaceful-explosion",
   "metadata": {},
   "source": [
    "(c) **Error propagation**"
   ]
  },
  {
   "cell_type": "code",
   "execution_count": 10,
   "id": "cosmetic-ladder",
   "metadata": {},
   "outputs": [
    {
     "data": {
      "text/latex": [
       "$3.3 \\pm 1.4e-10$"
      ],
      "text/plain": [
       "3.3 ± 1.4e-10"
      ]
     },
     "execution_count": 10,
     "metadata": {},
     "output_type": "execute_result"
    }
   ],
   "source": [
    "using Measurements\n",
    "\n",
    "v = [\n",
    "    measurement(1,   1e-10)\n",
    "    measurement(1.1, 1e-12)\n",
    "    measurement(1.2, 1e-10)\n",
    "]\n",
    "\n",
    "mysum(v)"
   ]
  },
  {
   "cell_type": "markdown",
   "id": "invisible-textbook",
   "metadata": {},
   "source": [
    "(d) **Computing gradients**"
   ]
  },
  {
   "cell_type": "code",
   "execution_count": 11,
   "id": "negative-cheese",
   "metadata": {},
   "outputs": [
    {
     "data": {
      "text/plain": [
       "3-element Vector{Int64}:\n",
       " 1\n",
       " 1\n",
       " 1"
      ]
     },
     "execution_count": 11,
     "metadata": {},
     "output_type": "execute_result"
    }
   ],
   "source": [
    "using Zygote\n",
    "mysum'([1, -1, 1])"
   ]
  },
  {
   "cell_type": "code",
   "execution_count": 12,
   "id": "convenient-wallpaper",
   "metadata": {},
   "outputs": [
    {
     "data": {
      "image/svg+xml": [
       "<?xml version=\"1.0\" encoding=\"utf-8\"?>\n",
       "<svg xmlns=\"http://www.w3.org/2000/svg\" xmlns:xlink=\"http://www.w3.org/1999/xlink\" width=\"600\" height=\"400\" viewBox=\"0 0 2400 1600\">\n",
       "<defs>\n",
       "  <clipPath id=\"clip930\">\n",
       "    <rect x=\"0\" y=\"0\" width=\"2400\" height=\"1600\"/>\n",
       "  </clipPath>\n",
       "</defs>\n",
       "<path clip-path=\"url(#clip930)\" d=\"\n",
       "M0 1600 L2400 1600 L2400 0 L0 0  Z\n",
       "  \" fill=\"#ffffff\" fill-rule=\"evenodd\" fill-opacity=\"1\"/>\n",
       "<defs>\n",
       "  <clipPath id=\"clip931\">\n",
       "    <rect x=\"480\" y=\"0\" width=\"1681\" height=\"1600\"/>\n",
       "  </clipPath>\n",
       "</defs>\n",
       "<path clip-path=\"url(#clip930)\" d=\"\n",
       "M209.029 1486.45 L2352.76 1486.45 L2352.76 47.2441 L209.029 47.2441  Z\n",
       "  \" fill=\"#ffffff\" fill-rule=\"evenodd\" fill-opacity=\"1\"/>\n",
       "<defs>\n",
       "  <clipPath id=\"clip932\">\n",
       "    <rect x=\"209\" y=\"47\" width=\"2145\" height=\"1440\"/>\n",
       "  </clipPath>\n",
       "</defs>\n",
       "<polyline clip-path=\"url(#clip932)\" style=\"stroke:#000000; stroke-width:2; stroke-opacity:0.1; fill:none\" points=\"\n",
       "  517.728,1486.45 517.728,47.2441 \n",
       "  \"/>\n",
       "<polyline clip-path=\"url(#clip932)\" style=\"stroke:#000000; stroke-width:2; stroke-opacity:0.1; fill:none\" points=\"\n",
       "  899.31,1486.45 899.31,47.2441 \n",
       "  \"/>\n",
       "<polyline clip-path=\"url(#clip932)\" style=\"stroke:#000000; stroke-width:2; stroke-opacity:0.1; fill:none\" points=\"\n",
       "  1280.89,1486.45 1280.89,47.2441 \n",
       "  \"/>\n",
       "<polyline clip-path=\"url(#clip932)\" style=\"stroke:#000000; stroke-width:2; stroke-opacity:0.1; fill:none\" points=\"\n",
       "  1662.47,1486.45 1662.47,47.2441 \n",
       "  \"/>\n",
       "<polyline clip-path=\"url(#clip932)\" style=\"stroke:#000000; stroke-width:2; stroke-opacity:0.1; fill:none\" points=\"\n",
       "  2044.06,1486.45 2044.06,47.2441 \n",
       "  \"/>\n",
       "<polyline clip-path=\"url(#clip930)\" style=\"stroke:#000000; stroke-width:4; stroke-opacity:1; fill:none\" points=\"\n",
       "  209.029,1486.45 2352.76,1486.45 \n",
       "  \"/>\n",
       "<polyline clip-path=\"url(#clip930)\" style=\"stroke:#000000; stroke-width:4; stroke-opacity:1; fill:none\" points=\"\n",
       "  517.728,1486.45 517.728,1469.18 \n",
       "  \"/>\n",
       "<polyline clip-path=\"url(#clip930)\" style=\"stroke:#000000; stroke-width:4; stroke-opacity:1; fill:none\" points=\"\n",
       "  899.31,1486.45 899.31,1469.18 \n",
       "  \"/>\n",
       "<polyline clip-path=\"url(#clip930)\" style=\"stroke:#000000; stroke-width:4; stroke-opacity:1; fill:none\" points=\"\n",
       "  1280.89,1486.45 1280.89,1469.18 \n",
       "  \"/>\n",
       "<polyline clip-path=\"url(#clip930)\" style=\"stroke:#000000; stroke-width:4; stroke-opacity:1; fill:none\" points=\"\n",
       "  1662.47,1486.45 1662.47,1469.18 \n",
       "  \"/>\n",
       "<polyline clip-path=\"url(#clip930)\" style=\"stroke:#000000; stroke-width:4; stroke-opacity:1; fill:none\" points=\"\n",
       "  2044.06,1486.45 2044.06,1469.18 \n",
       "  \"/>\n",
       "<path clip-path=\"url(#clip930)\" d=\"M 0 0 M486.629 1530.29 L516.305 1530.29 L516.305 1534.23 L486.629 1534.23 L486.629 1530.29 Z\" fill=\"#000000\" fill-rule=\"evenodd\" fill-opacity=\"1\" /><path clip-path=\"url(#clip930)\" d=\"M 0 0 M539.244 1516.63 L527.439 1535.08 L539.244 1535.08 L539.244 1516.63 M538.018 1512.56 L543.897 1512.56 L543.897 1535.08 L548.828 1535.08 L548.828 1538.97 L543.897 1538.97 L543.897 1547.12 L539.244 1547.12 L539.244 1538.97 L523.643 1538.97 L523.643 1534.46 L538.018 1512.56 Z\" fill=\"#000000\" fill-rule=\"evenodd\" fill-opacity=\"1\" /><path clip-path=\"url(#clip930)\" d=\"M 0 0 M869.253 1530.29 L898.928 1530.29 L898.928 1534.23 L869.253 1534.23 L869.253 1530.29 Z\" fill=\"#000000\" fill-rule=\"evenodd\" fill-opacity=\"1\" /><path clip-path=\"url(#clip930)\" d=\"M 0 0 M913.049 1543.18 L929.368 1543.18 L929.368 1547.12 L907.424 1547.12 L907.424 1543.18 Q910.086 1540.43 914.669 1535.8 Q919.275 1531.15 920.456 1529.81 Q922.701 1527.28 923.581 1525.55 Q924.484 1523.79 924.484 1522.1 Q924.484 1519.34 922.539 1517.61 Q920.618 1515.87 917.516 1515.87 Q915.317 1515.87 912.863 1516.63 Q910.433 1517.4 907.655 1518.95 L907.655 1514.23 Q910.479 1513.09 912.933 1512.51 Q915.387 1511.93 917.424 1511.93 Q922.794 1511.93 925.988 1514.62 Q929.183 1517.31 929.183 1521.8 Q929.183 1523.93 928.373 1525.85 Q927.586 1527.74 925.479 1530.34 Q924.9 1531.01 921.799 1534.23 Q918.697 1537.42 913.049 1543.18 Z\" fill=\"#000000\" fill-rule=\"evenodd\" fill-opacity=\"1\" /><path clip-path=\"url(#clip930)\" d=\"M 0 0 M1280.89 1515.64 Q1277.28 1515.64 1275.45 1519.2 Q1273.65 1522.75 1273.65 1529.87 Q1273.65 1536.98 1275.45 1540.55 Q1277.28 1544.09 1280.89 1544.09 Q1284.53 1544.09 1286.33 1540.55 Q1288.16 1536.98 1288.16 1529.87 Q1288.16 1522.75 1286.33 1519.2 Q1284.53 1515.64 1280.89 1515.64 M1280.89 1511.93 Q1286.7 1511.93 1289.76 1516.54 Q1292.84 1521.12 1292.84 1529.87 Q1292.84 1538.6 1289.76 1543.21 Q1286.7 1547.79 1280.89 1547.79 Q1275.08 1547.79 1272 1543.21 Q1268.95 1538.6 1268.95 1529.87 Q1268.95 1521.12 1272 1516.54 Q1275.08 1511.93 1280.89 1511.93 Z\" fill=\"#000000\" fill-rule=\"evenodd\" fill-opacity=\"1\" /><path clip-path=\"url(#clip930)\" d=\"M 0 0 M1657.13 1543.18 L1673.45 1543.18 L1673.45 1547.12 L1651.5 1547.12 L1651.5 1543.18 Q1654.16 1540.43 1658.75 1535.8 Q1663.35 1531.15 1664.53 1529.81 Q1666.78 1527.28 1667.66 1525.55 Q1668.56 1523.79 1668.56 1522.1 Q1668.56 1519.34 1666.62 1517.61 Q1664.7 1515.87 1661.59 1515.87 Q1659.4 1515.87 1656.94 1516.63 Q1654.51 1517.4 1651.73 1518.95 L1651.73 1514.23 Q1654.56 1513.09 1657.01 1512.51 Q1659.46 1511.93 1661.5 1511.93 Q1666.87 1511.93 1670.07 1514.62 Q1673.26 1517.31 1673.26 1521.8 Q1673.26 1523.93 1672.45 1525.85 Q1671.66 1527.74 1669.56 1530.34 Q1668.98 1531.01 1665.88 1534.23 Q1662.78 1537.42 1657.13 1543.18 Z\" fill=\"#000000\" fill-rule=\"evenodd\" fill-opacity=\"1\" /><path clip-path=\"url(#clip930)\" d=\"M 0 0 M2047.07 1516.63 L2035.26 1535.08 L2047.07 1535.08 L2047.07 1516.63 M2045.84 1512.56 L2051.72 1512.56 L2051.72 1535.08 L2056.65 1535.08 L2056.65 1538.97 L2051.72 1538.97 L2051.72 1547.12 L2047.07 1547.12 L2047.07 1538.97 L2031.46 1538.97 L2031.46 1534.46 L2045.84 1512.56 Z\" fill=\"#000000\" fill-rule=\"evenodd\" fill-opacity=\"1\" /><polyline clip-path=\"url(#clip932)\" style=\"stroke:#000000; stroke-width:2; stroke-opacity:0.1; fill:none\" points=\"\n",
       "  209.029,1315.37 2352.76,1315.37 \n",
       "  \"/>\n",
       "<polyline clip-path=\"url(#clip932)\" style=\"stroke:#000000; stroke-width:2; stroke-opacity:0.1; fill:none\" points=\"\n",
       "  209.029,1043.82 2352.76,1043.82 \n",
       "  \"/>\n",
       "<polyline clip-path=\"url(#clip932)\" style=\"stroke:#000000; stroke-width:2; stroke-opacity:0.1; fill:none\" points=\"\n",
       "  209.029,772.277 2352.76,772.277 \n",
       "  \"/>\n",
       "<polyline clip-path=\"url(#clip932)\" style=\"stroke:#000000; stroke-width:2; stroke-opacity:0.1; fill:none\" points=\"\n",
       "  209.029,500.729 2352.76,500.729 \n",
       "  \"/>\n",
       "<polyline clip-path=\"url(#clip932)\" style=\"stroke:#000000; stroke-width:2; stroke-opacity:0.1; fill:none\" points=\"\n",
       "  209.029,229.181 2352.76,229.181 \n",
       "  \"/>\n",
       "<polyline clip-path=\"url(#clip930)\" style=\"stroke:#000000; stroke-width:4; stroke-opacity:1; fill:none\" points=\"\n",
       "  209.029,1486.45 209.029,47.2441 \n",
       "  \"/>\n",
       "<polyline clip-path=\"url(#clip930)\" style=\"stroke:#000000; stroke-width:4; stroke-opacity:1; fill:none\" points=\"\n",
       "  209.029,1315.37 234.753,1315.37 \n",
       "  \"/>\n",
       "<polyline clip-path=\"url(#clip930)\" style=\"stroke:#000000; stroke-width:4; stroke-opacity:1; fill:none\" points=\"\n",
       "  209.029,1043.82 234.753,1043.82 \n",
       "  \"/>\n",
       "<polyline clip-path=\"url(#clip930)\" style=\"stroke:#000000; stroke-width:4; stroke-opacity:1; fill:none\" points=\"\n",
       "  209.029,772.277 234.753,772.277 \n",
       "  \"/>\n",
       "<polyline clip-path=\"url(#clip930)\" style=\"stroke:#000000; stroke-width:4; stroke-opacity:1; fill:none\" points=\"\n",
       "  209.029,500.729 234.753,500.729 \n",
       "  \"/>\n",
       "<polyline clip-path=\"url(#clip930)\" style=\"stroke:#000000; stroke-width:4; stroke-opacity:1; fill:none\" points=\"\n",
       "  209.029,229.181 234.753,229.181 \n",
       "  \"/>\n",
       "<path clip-path=\"url(#clip930)\" d=\"M 0 0 M50.9921 1315.82 L80.6679 1315.82 L80.6679 1319.76 L50.9921 1319.76 L50.9921 1315.82 Z\" fill=\"#000000\" fill-rule=\"evenodd\" fill-opacity=\"1\" /><path clip-path=\"url(#clip930)\" d=\"M 0 0 M91.5706 1328.72 L99.2095 1328.72 L99.2095 1302.35 L90.8993 1304.02 L90.8993 1299.76 L99.1632 1298.09 L103.839 1298.09 L103.839 1328.72 L111.478 1328.72 L111.478 1332.65 L91.5706 1332.65 L91.5706 1328.72 Z\" fill=\"#000000\" fill-rule=\"evenodd\" fill-opacity=\"1\" /><path clip-path=\"url(#clip930)\" d=\"M 0 0 M130.922 1301.17 Q127.311 1301.17 125.482 1304.74 Q123.677 1308.28 123.677 1315.41 Q123.677 1322.51 125.482 1326.08 Q127.311 1329.62 130.922 1329.62 Q134.556 1329.62 136.362 1326.08 Q138.191 1322.51 138.191 1315.41 Q138.191 1308.28 136.362 1304.74 Q134.556 1301.17 130.922 1301.17 M130.922 1297.47 Q136.732 1297.47 139.788 1302.07 Q142.867 1306.66 142.867 1315.41 Q142.867 1324.13 139.788 1328.74 Q136.732 1333.32 130.922 1333.32 Q125.112 1333.32 122.033 1328.74 Q118.978 1324.13 118.978 1315.41 Q118.978 1306.66 122.033 1302.07 Q125.112 1297.47 130.922 1297.47 Z\" fill=\"#000000\" fill-rule=\"evenodd\" fill-opacity=\"1\" /><path clip-path=\"url(#clip930)\" d=\"M 0 0 M161.084 1301.17 Q157.473 1301.17 155.644 1304.74 Q153.839 1308.28 153.839 1315.41 Q153.839 1322.51 155.644 1326.08 Q157.473 1329.62 161.084 1329.62 Q164.718 1329.62 166.524 1326.08 Q168.353 1322.51 168.353 1315.41 Q168.353 1308.28 166.524 1304.74 Q164.718 1301.17 161.084 1301.17 M161.084 1297.47 Q166.894 1297.47 169.95 1302.07 Q173.029 1306.66 173.029 1315.41 Q173.029 1324.13 169.95 1328.74 Q166.894 1333.32 161.084 1333.32 Q155.274 1333.32 152.195 1328.74 Q149.14 1324.13 149.14 1315.41 Q149.14 1306.66 152.195 1302.07 Q155.274 1297.47 161.084 1297.47 Z\" fill=\"#000000\" fill-rule=\"evenodd\" fill-opacity=\"1\" /><path clip-path=\"url(#clip930)\" d=\"M 0 0 M81.154 1044.28 L110.83 1044.28 L110.83 1048.21 L81.154 1048.21 L81.154 1044.28 Z\" fill=\"#000000\" fill-rule=\"evenodd\" fill-opacity=\"1\" /><path clip-path=\"url(#clip930)\" d=\"M 0 0 M120.969 1026.54 L139.325 1026.54 L139.325 1030.48 L125.251 1030.48 L125.251 1038.95 Q126.27 1038.6 127.288 1038.44 Q128.307 1038.26 129.325 1038.26 Q135.112 1038.26 138.492 1041.43 Q141.871 1044.6 141.871 1050.02 Q141.871 1055.6 138.399 1058.7 Q134.927 1061.78 128.607 1061.78 Q126.432 1061.78 124.163 1061.41 Q121.918 1061.04 119.51 1060.29 L119.51 1055.6 Q121.594 1056.73 123.816 1057.29 Q126.038 1057.84 128.515 1057.84 Q132.519 1057.84 134.857 1055.73 Q137.195 1053.63 137.195 1050.02 Q137.195 1046.41 134.857 1044.3 Q132.519 1042.19 128.515 1042.19 Q126.64 1042.19 124.765 1042.61 Q122.913 1043.03 120.969 1043.91 L120.969 1026.54 Z\" fill=\"#000000\" fill-rule=\"evenodd\" fill-opacity=\"1\" /><path clip-path=\"url(#clip930)\" d=\"M 0 0 M161.084 1029.62 Q157.473 1029.62 155.644 1033.19 Q153.839 1036.73 153.839 1043.86 Q153.839 1050.97 155.644 1054.53 Q157.473 1058.07 161.084 1058.07 Q164.718 1058.07 166.524 1054.53 Q168.353 1050.97 168.353 1043.86 Q168.353 1036.73 166.524 1033.19 Q164.718 1029.62 161.084 1029.62 M161.084 1025.92 Q166.894 1025.92 169.95 1030.53 Q173.029 1035.11 173.029 1043.86 Q173.029 1052.59 169.95 1057.19 Q166.894 1061.78 161.084 1061.78 Q155.274 1061.78 152.195 1057.19 Q149.14 1052.59 149.14 1043.86 Q149.14 1035.11 152.195 1030.53 Q155.274 1025.92 161.084 1025.92 Z\" fill=\"#000000\" fill-rule=\"evenodd\" fill-opacity=\"1\" /><path clip-path=\"url(#clip930)\" d=\"M 0 0 M161.084 758.076 Q157.473 758.076 155.644 761.64 Q153.839 765.182 153.839 772.312 Q153.839 779.418 155.644 782.983 Q157.473 786.525 161.084 786.525 Q164.718 786.525 166.524 782.983 Q168.353 779.418 168.353 772.312 Q168.353 765.182 166.524 761.64 Q164.718 758.076 161.084 758.076 M161.084 754.372 Q166.894 754.372 169.95 758.978 Q173.029 763.562 173.029 772.312 Q173.029 781.038 169.95 785.645 Q166.894 790.228 161.084 790.228 Q155.274 790.228 152.195 785.645 Q149.14 781.038 149.14 772.312 Q149.14 763.562 152.195 758.978 Q155.274 754.372 161.084 754.372 Z\" fill=\"#000000\" fill-rule=\"evenodd\" fill-opacity=\"1\" /><path clip-path=\"url(#clip930)\" d=\"M 0 0 M120.969 483.449 L139.325 483.449 L139.325 487.384 L125.251 487.384 L125.251 495.856 Q126.27 495.509 127.288 495.347 Q128.307 495.162 129.325 495.162 Q135.112 495.162 138.492 498.333 Q141.871 501.505 141.871 506.921 Q141.871 512.5 138.399 515.602 Q134.927 518.68 128.607 518.68 Q126.432 518.68 124.163 518.31 Q121.918 517.94 119.51 517.199 L119.51 512.5 Q121.594 513.634 123.816 514.19 Q126.038 514.745 128.515 514.745 Q132.519 514.745 134.857 512.639 Q137.195 510.532 137.195 506.921 Q137.195 503.31 134.857 501.204 Q132.519 499.097 128.515 499.097 Q126.64 499.097 124.765 499.514 Q122.913 499.93 120.969 500.81 L120.969 483.449 Z\" fill=\"#000000\" fill-rule=\"evenodd\" fill-opacity=\"1\" /><path clip-path=\"url(#clip930)\" d=\"M 0 0 M161.084 486.528 Q157.473 486.528 155.644 490.093 Q153.839 493.634 153.839 500.764 Q153.839 507.87 155.644 511.435 Q157.473 514.977 161.084 514.977 Q164.718 514.977 166.524 511.435 Q168.353 507.87 168.353 500.764 Q168.353 493.634 166.524 490.093 Q164.718 486.528 161.084 486.528 M161.084 482.824 Q166.894 482.824 169.95 487.431 Q173.029 492.014 173.029 500.764 Q173.029 509.491 169.95 514.097 Q166.894 518.68 161.084 518.68 Q155.274 518.68 152.195 514.097 Q149.14 509.491 149.14 500.764 Q149.14 492.014 152.195 487.431 Q155.274 482.824 161.084 482.824 Z\" fill=\"#000000\" fill-rule=\"evenodd\" fill-opacity=\"1\" /><path clip-path=\"url(#clip930)\" d=\"M 0 0 M91.5706 242.526 L99.2095 242.526 L99.2095 216.16 L90.8993 217.827 L90.8993 213.568 L99.1632 211.901 L103.839 211.901 L103.839 242.526 L111.478 242.526 L111.478 246.461 L91.5706 246.461 L91.5706 242.526 Z\" fill=\"#000000\" fill-rule=\"evenodd\" fill-opacity=\"1\" /><path clip-path=\"url(#clip930)\" d=\"M 0 0 M130.922 214.98 Q127.311 214.98 125.482 218.545 Q123.677 222.086 123.677 229.216 Q123.677 236.322 125.482 239.887 Q127.311 243.429 130.922 243.429 Q134.556 243.429 136.362 239.887 Q138.191 236.322 138.191 229.216 Q138.191 222.086 136.362 218.545 Q134.556 214.98 130.922 214.98 M130.922 211.276 Q136.732 211.276 139.788 215.883 Q142.867 220.466 142.867 229.216 Q142.867 237.943 139.788 242.549 Q136.732 247.132 130.922 247.132 Q125.112 247.132 122.033 242.549 Q118.978 237.943 118.978 229.216 Q118.978 220.466 122.033 215.883 Q125.112 211.276 130.922 211.276 Z\" fill=\"#000000\" fill-rule=\"evenodd\" fill-opacity=\"1\" /><path clip-path=\"url(#clip930)\" d=\"M 0 0 M161.084 214.98 Q157.473 214.98 155.644 218.545 Q153.839 222.086 153.839 229.216 Q153.839 236.322 155.644 239.887 Q157.473 243.429 161.084 243.429 Q164.718 243.429 166.524 239.887 Q168.353 236.322 168.353 229.216 Q168.353 222.086 166.524 218.545 Q164.718 214.98 161.084 214.98 M161.084 211.276 Q166.894 211.276 169.95 215.883 Q173.029 220.466 173.029 229.216 Q173.029 237.943 169.95 242.549 Q166.894 247.132 161.084 247.132 Q155.274 247.132 152.195 242.549 Q149.14 237.943 149.14 229.216 Q149.14 220.466 152.195 215.883 Q155.274 211.276 161.084 211.276 Z\" fill=\"#000000\" fill-rule=\"evenodd\" fill-opacity=\"1\" /><polyline clip-path=\"url(#clip932)\" style=\"stroke:#009af9; stroke-width:4; stroke-opacity:1; fill:none\" points=\"\n",
       "  326.937,1445.72 331.595,1435.82 336.253,1426.02 340.912,1416.32 345.57,1406.71 388.64,1322.32 431.711,1245.7 474.782,1176.47 517.852,1114.26 569.619,1048.24 \n",
       "  621.387,991.161 665.155,949.399 708.924,913.171 804.014,851.652 891.678,812.953 985.664,786.968 1094.56,771.905 1191.33,767.408 1276.18,766.846 1368.7,766.317 \n",
       "  1461.77,762.218 1564.67,748.975 1662.58,723.363 1713.48,703.545 1764.38,678.467 1807.22,652.827 1850.07,622.653 1902.38,579.13 1954.69,527.628 2003.86,471.339 \n",
       "  2053.04,406.847 2092.43,348.893 2131.82,285.032 2171.21,214.976 2210.6,138.439 2216.66,126.066 2222.72,113.532 2228.79,100.836 2234.85,87.9763 \n",
       "  \"/>\n",
       "<polyline clip-path=\"url(#clip932)\" style=\"stroke:#e26f46; stroke-width:4; stroke-opacity:1; fill:none\" points=\"\n",
       "  269.7,314.61 279.575,323.505 289.45,332.314 380.76,409.621 472.07,479.465 526.943,517.848 581.816,553.536 628.211,581.606 674.606,607.75 725.004,633.966 \n",
       "  775.401,657.908 821.863,677.966 868.326,696.092 918.138,713.378 967.95,728.443 1025.66,743.12 1083.38,754.815 1134.66,762.706 1185.95,768.242 1230.93,771.16 \n",
       "  1275.9,772.266 1324.94,771.409 1373.97,768.399 1423.3,763.2 1472.62,755.823 1527.16,745.131 1581.7,731.777 1633.59,716.599 1685.48,699.011 1739.43,678.167 \n",
       "  1793.38,654.718 1838.8,632.958 1884.22,609.352 1939.67,578.028 1995.12,543.952 2047.24,509.409 2099.37,472.435 2182.87,408.129 2266.38,337.581 2279.23,326.169 \n",
       "  2292.08,314.61 \n",
       "  \"/>\n",
       "<path clip-path=\"url(#clip930)\" d=\"\n",
       "M1990.68 276.658 L2281.3 276.658 L2281.3 95.2176 L1990.68 95.2176  Z\n",
       "  \" fill=\"#ffffff\" fill-rule=\"evenodd\" fill-opacity=\"1\"/>\n",
       "<polyline clip-path=\"url(#clip930)\" style=\"stroke:#000000; stroke-width:4; stroke-opacity:1; fill:none\" points=\"\n",
       "  1990.68,276.658 2281.3,276.658 2281.3,95.2176 1990.68,95.2176 1990.68,276.658 \n",
       "  \"/>\n",
       "<polyline clip-path=\"url(#clip930)\" style=\"stroke:#009af9; stroke-width:4; stroke-opacity:1; fill:none\" points=\"\n",
       "  2014.5,155.698 2157.41,155.698 \n",
       "  \"/>\n",
       "<path clip-path=\"url(#clip930)\" d=\"M 0 0 M2195.07 175.385 Q2193.27 180.015 2191.55 181.427 Q2189.84 182.839 2186.97 182.839 L2183.57 182.839 L2183.57 179.274 L2186.07 179.274 Q2187.83 179.274 2188.8 178.44 Q2189.77 177.607 2190.95 174.505 L2191.72 172.561 L2181.23 147.052 L2185.74 147.052 L2193.85 167.329 L2201.95 147.052 L2206.46 147.052 L2195.07 175.385 Z\" fill=\"#000000\" fill-rule=\"evenodd\" fill-opacity=\"1\" /><path clip-path=\"url(#clip930)\" d=\"M 0 0 M2213.75 169.042 L2221.39 169.042 L2221.39 142.677 L2213.08 144.343 L2213.08 140.084 L2221.35 138.418 L2226.02 138.418 L2226.02 169.042 L2233.66 169.042 L2233.66 172.978 L2213.75 172.978 L2213.75 169.042 Z\" fill=\"#000000\" fill-rule=\"evenodd\" fill-opacity=\"1\" /><polyline clip-path=\"url(#clip930)\" style=\"stroke:#e26f46; stroke-width:4; stroke-opacity:1; fill:none\" points=\"\n",
       "  2014.5,216.178 2157.41,216.178 \n",
       "  \"/>\n",
       "<path clip-path=\"url(#clip930)\" d=\"M 0 0 M2195.07 235.865 Q2193.27 240.495 2191.55 241.907 Q2189.84 243.319 2186.97 243.319 L2183.57 243.319 L2183.57 239.754 L2186.07 239.754 Q2187.83 239.754 2188.8 238.92 Q2189.77 238.087 2190.95 234.985 L2191.72 233.041 L2181.23 207.532 L2185.74 207.532 L2193.85 227.809 L2201.95 207.532 L2206.46 207.532 L2195.07 235.865 Z\" fill=\"#000000\" fill-rule=\"evenodd\" fill-opacity=\"1\" /><path clip-path=\"url(#clip930)\" d=\"M 0 0 M2216.97 229.522 L2233.29 229.522 L2233.29 233.458 L2211.35 233.458 L2211.35 229.522 Q2214.01 226.768 2218.59 222.138 Q2223.2 217.485 2224.38 216.143 Q2226.62 213.62 2227.5 211.884 Q2228.41 210.124 2228.41 208.435 Q2228.41 205.68 2226.46 203.944 Q2224.54 202.208 2221.44 202.208 Q2219.24 202.208 2216.79 202.972 Q2214.35 203.735 2211.58 205.286 L2211.58 200.564 Q2214.4 199.43 2216.85 198.851 Q2219.31 198.273 2221.35 198.273 Q2226.72 198.273 2229.91 200.958 Q2233.1 203.643 2233.1 208.134 Q2233.1 210.263 2232.29 212.185 Q2231.51 214.083 2229.4 216.675 Q2228.82 217.347 2225.72 220.564 Q2222.62 223.759 2216.97 229.522 Z\" fill=\"#000000\" fill-rule=\"evenodd\" fill-opacity=\"1\" /></svg>\n"
      ]
     },
     "execution_count": 12,
     "metadata": {},
     "output_type": "execute_result"
    }
   ],
   "source": [
    "using Plots\n",
    "\n",
    "f(x) = x^3 + 1\n",
    "plot(f)\n",
    "plot!(f')"
   ]
  },
  {
   "cell_type": "code",
   "execution_count": 13,
   "id": "julian-pocket",
   "metadata": {},
   "outputs": [
    {
     "name": "stdout",
     "output_type": "stream",
     "text": [
      "\u001b[90m;  @ In[12]:3 within `f'\u001b[39m\n",
      "\u001b[95mdefine\u001b[39m \u001b[36mdouble\u001b[39m \u001b[93m@julia_f_8068\u001b[39m\u001b[33m(\u001b[39m\u001b[36mdouble\u001b[39m \u001b[0m%0\u001b[33m)\u001b[39m \u001b[33m{\u001b[39m\n",
      "\u001b[91mtop:\u001b[39m\n",
      "\u001b[90m; ┌ @ intfuncs.jl:313 within `literal_pow'\u001b[39m\n",
      "\u001b[90m; │┌ @ operators.jl:560 within `*' @ float.jl:332\u001b[39m\n",
      "    \u001b[0m%1 \u001b[0m= \u001b[96m\u001b[1mfmul\u001b[22m\u001b[39m \u001b[36mdouble\u001b[39m \u001b[0m%0\u001b[0m, \u001b[0m%0\n",
      "    \u001b[0m%2 \u001b[0m= \u001b[96m\u001b[1mfmul\u001b[22m\u001b[39m \u001b[36mdouble\u001b[39m \u001b[0m%1\u001b[0m, \u001b[0m%0\n",
      "\u001b[90m; └└\u001b[39m\n",
      "\u001b[90m; ┌ @ promotion.jl:321 within `+' @ float.jl:326\u001b[39m\n",
      "   \u001b[0m%3 \u001b[0m= \u001b[96m\u001b[1mfadd\u001b[22m\u001b[39m \u001b[36mdouble\u001b[39m \u001b[0m%2\u001b[0m, \u001b[33m1.000000e+00\u001b[39m\n",
      "\u001b[90m; └\u001b[39m\n",
      "  \u001b[96m\u001b[1mret\u001b[22m\u001b[39m \u001b[36mdouble\u001b[39m \u001b[0m%3\n",
      "\u001b[33m}\u001b[39m\n"
     ]
    }
   ],
   "source": [
    "@code_llvm f(2.0)"
   ]
  },
  {
   "cell_type": "code",
   "execution_count": 14,
   "id": "changing-butter",
   "metadata": {},
   "outputs": [
    {
     "name": "stdout",
     "output_type": "stream",
     "text": [
      "\u001b[90m;  @ /home/mfh/.julia/packages/Zygote/ggM8Z/src/compiler/interface.jl:52 within `#43'\u001b[39m\n",
      "\u001b[95mdefine\u001b[39m \u001b[36mdouble\u001b[39m \u001b[93m@\"julia_#43_8098\"\u001b[39m\u001b[33m(\u001b[39m\u001b[36mdouble\u001b[39m \u001b[0m%0\u001b[33m)\u001b[39m \u001b[33m{\u001b[39m\n",
      "\u001b[91mtop:\u001b[39m\n",
      "\u001b[90m; ┌ @ /home/mfh/.julia/packages/Zygote/ggM8Z/src/compiler/interface.jl:49 within `gradient'\u001b[39m\n",
      "\u001b[90m; │┌ @ /home/mfh/.julia/packages/Zygote/ggM8Z/src/compiler/interface.jl:40 within `#41'\u001b[39m\n",
      "\u001b[90m; ││┌ @ In[12]:3 within `Pullback'\u001b[39m\n",
      "\u001b[90m; │││┌ @ /home/mfh/.julia/packages/ZygoteRules/OjfTt/src/adjoint.jl:59 within `#1752#back'\u001b[39m\n",
      "\u001b[90m; ││││┌ @ /home/mfh/.julia/packages/Zygote/ggM8Z/src/lib/number.jl:6 within `#185'\u001b[39m\n",
      "\u001b[90m; │││││┌ @ intfuncs.jl:312 within `literal_pow'\u001b[39m\n",
      "\u001b[90m; ││││││┌ @ float.jl:332 within `*'\u001b[39m\n",
      "         \u001b[0m%1 \u001b[0m= \u001b[96m\u001b[1mfmul\u001b[22m\u001b[39m \u001b[36mdouble\u001b[39m \u001b[0m%0\u001b[0m, \u001b[0m%0\n",
      "\u001b[90m; │││││└└\u001b[39m\n",
      "\u001b[90m; │││││┌ @ promotion.jl:322 within `*' @ float.jl:332\u001b[39m\n",
      "        \u001b[0m%2 \u001b[0m= \u001b[96m\u001b[1mfmul\u001b[22m\u001b[39m \u001b[36mdouble\u001b[39m \u001b[0m%1\u001b[0m, \u001b[33m3.000000e+00\u001b[39m\n",
      "\u001b[90m; └└└└└└\u001b[39m\n",
      "  \u001b[96m\u001b[1mret\u001b[22m\u001b[39m \u001b[36mdouble\u001b[39m \u001b[0m%2\n",
      "\u001b[33m}\u001b[39m\n"
     ]
    }
   ],
   "source": [
    "@code_llvm f'(2.0)"
   ]
  },
  {
   "cell_type": "markdown",
   "id": "royal-clinic",
   "metadata": {},
   "source": [
    "## Speed\n",
    "\n",
    "Let's compare to C and python ..."
   ]
  },
  {
   "cell_type": "code",
   "execution_count": 15,
   "id": "democratic-moisture",
   "metadata": {},
   "outputs": [],
   "source": [
    "v = randn(10^7);   # Large vector of numbers"
   ]
  },
  {
   "cell_type": "code",
   "execution_count": 16,
   "id": "copyrighted-observer",
   "metadata": {},
   "outputs": [],
   "source": [
    "using BenchmarkTools"
   ]
  },
  {
   "cell_type": "code",
   "execution_count": 17,
   "id": "embedded-corner",
   "metadata": {},
   "outputs": [
    {
     "data": {
      "text/plain": [
       "c_sum (generic function with 1 method)"
      ]
     },
     "execution_count": 17,
     "metadata": {},
     "output_type": "execute_result"
    }
   ],
   "source": [
    "# Compile some C code and call it from julia ...\n",
    "using Libdl\n",
    "code = \"\"\"\n",
    "#include <stddef.h>\n",
    "double c_sum(size_t n, double *v) {\n",
    "    double accu = 0.0;\n",
    "    for (size_t i = 0; i < n; ++i) {\n",
    "        accu += v[i];\n",
    "    }\n",
    "    return accu;\n",
    "}\n",
    "\"\"\"\n",
    "\n",
    "# Compile to a shared library (with fast maths and machine-specific)\n",
    "const Clib = tempname()\n",
    "open(`gcc -fPIC -O3 -march=native -xc -shared -ffast-math -o $(Clib * \".\" * Libdl.dlext) -`, \"w\") do f\n",
    "    print(f, code) \n",
    "end\n",
    "\n",
    "# define a Julia function that calls the C function:\n",
    "c_sum(v::Array{Float64}) = ccall((\"c_sum\", Clib), Float64, (Csize_t, Ptr{Float64}), length(v), v)"
   ]
  },
  {
   "cell_type": "code",
   "execution_count": 18,
   "id": "overhead-buyer",
   "metadata": {},
   "outputs": [
    {
     "data": {
      "text/plain": [
       "BenchmarkTools.Trial: \n",
       "  memory estimate:  0 bytes\n",
       "  allocs estimate:  0\n",
       "  --------------\n",
       "  minimum time:     3.781 ms (0.00% GC)\n",
       "  median time:      3.968 ms (0.00% GC)\n",
       "  mean time:        4.102 ms (0.00% GC)\n",
       "  maximum time:     7.162 ms (0.00% GC)\n",
       "  --------------\n",
       "  samples:          1216\n",
       "  evals/sample:     1"
      ]
     },
     "execution_count": 18,
     "metadata": {},
     "output_type": "execute_result"
    }
   ],
   "source": [
    "bench = @benchmark c_sum($v)"
   ]
  },
  {
   "cell_type": "code",
   "execution_count": 19,
   "id": "wooden-arrest",
   "metadata": {},
   "outputs": [
    {
     "data": {
      "text/plain": [
       "Dict{Any, Any} with 1 entry:\n",
       "  \"C\" => 3.78127"
      ]
     },
     "execution_count": 19,
     "metadata": {},
     "output_type": "execute_result"
    }
   ],
   "source": [
    "times = Dict()\n",
    "times[\"C\"] = minimum(bench.times) / 1e6\n",
    "times"
   ]
  },
  {
   "cell_type": "markdown",
   "id": "thermal-glucose",
   "metadata": {},
   "source": [
    "How does our version do?"
   ]
  },
  {
   "cell_type": "code",
   "execution_count": 20,
   "id": "crucial-newton",
   "metadata": {},
   "outputs": [
    {
     "data": {
      "text/plain": [
       "BenchmarkTools.Trial: \n",
       "  memory estimate:  0 bytes\n",
       "  allocs estimate:  0\n",
       "  --------------\n",
       "  minimum time:     9.676 ms (0.00% GC)\n",
       "  median time:      9.724 ms (0.00% GC)\n",
       "  mean time:        9.770 ms (0.00% GC)\n",
       "  maximum time:     10.484 ms (0.00% GC)\n",
       "  --------------\n",
       "  samples:          512\n",
       "  evals/sample:     1"
      ]
     },
     "execution_count": 20,
     "metadata": {},
     "output_type": "execute_result"
    }
   ],
   "source": [
    "bench = @benchmark mysum($v)"
   ]
  },
  {
   "cell_type": "code",
   "execution_count": 21,
   "id": "dimensional-nothing",
   "metadata": {},
   "outputs": [
    {
     "data": {
      "text/plain": [
       "9.675964"
      ]
     },
     "execution_count": 21,
     "metadata": {},
     "output_type": "execute_result"
    }
   ],
   "source": [
    "times[\"Julia (naive)\"] = minimum(bench.times) / 1e6"
   ]
  },
  {
   "cell_type": "markdown",
   "id": "revised-times",
   "metadata": {},
   "source": [
    "But unlike C we have not yet tried all tricks!"
   ]
  },
  {
   "cell_type": "code",
   "execution_count": 22,
   "id": "vietnamese-heather",
   "metadata": {},
   "outputs": [
    {
     "data": {
      "text/plain": [
       "fastsum (generic function with 1 method)"
      ]
     },
     "execution_count": 22,
     "metadata": {},
     "output_type": "execute_result"
    }
   ],
   "source": [
    "function fastsum(v)\n",
    "    result = zero(eltype(v))\n",
    "    @simd for i in 1:length(v)    # @simd enforces vectorisation in the loop\n",
    "        @inbounds result += v[i]  # @inbounds suppresses bound checks\n",
    "    end\n",
    "    result\n",
    "end\n",
    "\n",
    "# Still nicely readable code ..."
   ]
  },
  {
   "cell_type": "code",
   "execution_count": 23,
   "id": "running-celtic",
   "metadata": {},
   "outputs": [
    {
     "data": {
      "text/plain": [
       "BenchmarkTools.Trial: \n",
       "  memory estimate:  0 bytes\n",
       "  allocs estimate:  0\n",
       "  --------------\n",
       "  minimum time:     3.815 ms (0.00% GC)\n",
       "  median time:      3.970 ms (0.00% GC)\n",
       "  mean time:        4.107 ms (0.00% GC)\n",
       "  maximum time:     7.028 ms (0.00% GC)\n",
       "  --------------\n",
       "  samples:          1215\n",
       "  evals/sample:     1"
      ]
     },
     "execution_count": 23,
     "metadata": {},
     "output_type": "execute_result"
    }
   ],
   "source": [
    "bench = @benchmark fastsum($v)"
   ]
  },
  {
   "cell_type": "code",
   "execution_count": 24,
   "id": "posted-repository",
   "metadata": {},
   "outputs": [
    {
     "data": {
      "text/plain": [
       "3.815298"
      ]
     },
     "execution_count": 24,
     "metadata": {},
     "output_type": "execute_result"
    }
   ],
   "source": [
    "times[\"Julia (simd)\"] = minimum(bench.times) / 1e6"
   ]
  },
  {
   "cell_type": "markdown",
   "id": "continuous-minister",
   "metadata": {},
   "source": [
    "Compare with python ..."
   ]
  },
  {
   "cell_type": "code",
   "execution_count": 25,
   "id": "average-colombia",
   "metadata": {},
   "outputs": [
    {
     "data": {
      "text/plain": [
       "BenchmarkTools.Trial: \n",
       "  memory estimate:  480 bytes\n",
       "  allocs estimate:  9\n",
       "  --------------\n",
       "  minimum time:     4.234 ms (0.00% GC)\n",
       "  median time:      4.392 ms (0.00% GC)\n",
       "  mean time:        4.462 ms (0.00% GC)\n",
       "  maximum time:     6.043 ms (0.00% GC)\n",
       "  --------------\n",
       "  samples:          1119\n",
       "  evals/sample:     1"
      ]
     },
     "execution_count": 25,
     "metadata": {},
     "output_type": "execute_result"
    }
   ],
   "source": [
    "using PyCall\n",
    "numpysum(v) = pyimport(\"numpy\").sum(v)\n",
    "\n",
    "bench = @benchmark numpysum($v)"
   ]
  },
  {
   "cell_type": "code",
   "execution_count": 26,
   "id": "intelligent-combining",
   "metadata": {},
   "outputs": [
    {
     "data": {
      "text/plain": [
       "4.233692"
      ]
     },
     "execution_count": 26,
     "metadata": {},
     "output_type": "execute_result"
    }
   ],
   "source": [
    "times[\"Numpy\"] = minimum(bench.times) / 1e6"
   ]
  },
  {
   "cell_type": "code",
   "execution_count": 27,
   "id": "impressive-moore",
   "metadata": {},
   "outputs": [
    {
     "data": {
      "text/plain": [
       "BenchmarkTools.Trial: \n",
       "  memory estimate:  336 bytes\n",
       "  allocs estimate:  6\n",
       "  --------------\n",
       "  minimum time:     723.029 ms (0.00% GC)\n",
       "  median time:      730.284 ms (0.00% GC)\n",
       "  mean time:        728.511 ms (0.00% GC)\n",
       "  maximum time:     732.763 ms (0.00% GC)\n",
       "  --------------\n",
       "  samples:          7\n",
       "  evals/sample:     1"
      ]
     },
     "execution_count": 27,
     "metadata": {},
     "output_type": "execute_result"
    }
   ],
   "source": [
    "py\"\"\"\n",
    "def py_sum(A):\n",
    "    s = 0.0\n",
    "    for a in A:\n",
    "        s += a\n",
    "    return s\n",
    "\"\"\"\n",
    "\n",
    "pysum = py\"py_sum\"\n",
    "\n",
    "bench = @benchmark pysum($v)"
   ]
  },
  {
   "cell_type": "code",
   "execution_count": 28,
   "id": "ruled-spring",
   "metadata": {},
   "outputs": [
    {
     "data": {
      "text/plain": [
       "723.02868"
      ]
     },
     "execution_count": 28,
     "metadata": {},
     "output_type": "execute_result"
    }
   ],
   "source": [
    "times[\"Python (naive)\"] = minimum(bench.times) / 1e6"
   ]
  },
  {
   "cell_type": "markdown",
   "id": "practical-economics",
   "metadata": {},
   "source": [
    "Overview ..."
   ]
  },
  {
   "cell_type": "code",
   "execution_count": 29,
   "id": "alternative-intent",
   "metadata": {},
   "outputs": [
    {
     "data": {
      "text/plain": [
       "Dict{Any, Any} with 5 entries:\n",
       "  \"Numpy\"          => 4.23369\n",
       "  \"C\"              => 3.78127\n",
       "  \"Julia (naive)\"  => 9.67596\n",
       "  \"Python (naive)\" => 723.029\n",
       "  \"Julia (simd)\"   => 3.8153"
      ]
     },
     "execution_count": 29,
     "metadata": {},
     "output_type": "execute_result"
    }
   ],
   "source": [
    "times"
   ]
  }
 ],
 "metadata": {
  "kernelspec": {
   "display_name": "Julia 1.6.1",
   "language": "julia",
   "name": "julia-1.6"
  },
  "language_info": {
   "file_extension": ".jl",
   "mimetype": "application/julia",
   "name": "julia",
   "version": "1.6.1"
  }
 },
 "nbformat": 4,
 "nbformat_minor": 5
}
