{
 "cells": [
  {
   "cell_type": "markdown",
   "id": "tough-gallery",
   "metadata": {},
   "source": [
    "## Julia installation\n",
    "\n",
    "- [Julia downloads](https://julialang.org/downloads/)\n",
    "- [Julia installation instructions](https://julialang.org/downloads/platform.html)"
   ]
  },
  {
   "cell_type": "markdown",
   "id": "russian-miami",
   "metadata": {},
   "source": [
    "## Julia Learning resources\n",
    "\n",
    "- https://michael-herbst.com/learn-julia (Shameless advertisement ;))\n",
    "- [Official Julia documentation](https://docs.julialang.org/)\n",
    "- [ThinkJulia](https://benlauwens.github.io/ThinkJulia.jl/latest/book.html):\n",
    "  Great comprehensive book to get a computer-science-motivated view on Julia.\n",
    "  Suitable for programming beginners.\n",
    "- [Julia Express](http://bogumilkaminski.pl/files/julia_express.pdf):\n",
    "  Extremely condensed collection of Julia statements, syntax and facts\n",
    "  to get a quick overview. Little explanations.\n",
    "- [IntroToJulia](https://ucidatascienceinitiative.github.io/IntroToJulia/):\n",
    "  Collection of Julia-related links and facts.\n",
    "- [Julia learning](https://julialang.org/learning/):\n",
    "  Most exhaustive overview of Julia learning resources I know."
   ]
  },
  {
   "cell_type": "markdown",
   "id": "heavy-retrieval",
   "metadata": {},
   "source": [
    "## Julia Documentation\n",
    "\n",
    "The [Julia documentation](https://docs.julialang.org) is the starting point for finding answers about the **julia language**, any **`Base` package** or the **standard library**. If you suspect something is wrong with Julia itself, looking at the [list of issues](https://github.com/JuliaLang/julia/issues) or [list of Pull requests](https://github.com/JuliaLang/julia/issues) can be helpful.\n",
    "\n",
    "Most **Julia packages** have adopted similar standards to Base Julia with respect to documentation. They are usually developed on [github](https://github.com/topics/julia) and that's also a very good resource to find the project's homepage, installation tips or quickstart guides. Most have their own documentation somewhere linked as well (look out for an icon like ![](https://img.shields.io/badge/docs-stable-blue.svg)). If you have trouble with the package, it's also worth checking out the list of issues or pull requests to see if others have the same problem or people are already working on a fix. If not generally maintainers are more than happy if you get in touch there. Even if you are a Julia newbie: Be not afraid to send a patch or open a PR! Most maintainers are happy to help if you make the first step ;).\n",
    "\n",
    "\n",
    "## Julia Community\n",
    "\n",
    "The Julia community is open and friendly. The primary channel of communication is the [Julia Discourse](https://discourse.julialang.org/). There's also a [Julia Slack](https://julialang.slack.com/)."
   ]
  }
 ],
 "metadata": {
  "kernelspec": {
   "display_name": "Python 3",
   "language": "python",
   "name": "python3"
  },
  "language_info": {
   "codemirror_mode": {
    "name": "ipython",
    "version": 3
   },
   "file_extension": ".py",
   "mimetype": "text/x-python",
   "name": "python",
   "nbconvert_exporter": "python",
   "pygments_lexer": "ipython3",
   "version": "3.9.2"
  }
 },
 "nbformat": 4,
 "nbformat_minor": 5
}
